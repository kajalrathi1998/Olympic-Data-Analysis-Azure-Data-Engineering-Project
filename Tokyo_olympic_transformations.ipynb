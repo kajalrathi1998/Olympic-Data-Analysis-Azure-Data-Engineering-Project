{
 "cells": [
  {
   "cell_type": "code",
   "execution_count": 0,
   "metadata": {
    "application/vnd.databricks.v1+cell": {
     "cellMetadata": {
      "byteLimit": 2048000,
      "rowLimit": 10000
     },
     "inputWidgets": {},
     "nuid": "99c76de7-3f29-445f-8d20-de6c53da7f36",
     "showTitle": false,
     "tableResultSettingsMap": {},
     "title": ""
    }
   },
   "outputs": [
    {
     "output_type": "execute_result",
     "data": {
      "text/plain": [
       "True"
      ]
     },
     "execution_count": 4,
     "metadata": {},
     "output_type": "execute_result"
    }
   ],
   "source": [
    "configs = {\"fs.azure.account.auth.type\": \"OAuth\",\n",
    "\"fs.azure.account.oauth.provider.type\": \"org.apache.hadoop.fs.azurebfs.oauth2.ClientCredsTokenProvider\",\n",
    "\"fs.azure.account.oauth2.client.id\": \"\",\n",
    "\"fs.azure.account.oauth2.client.secret\": '',\n",
    "\"fs.azure.account.oauth2.client.endpoint\": \"https://login.microsoftonline.com/token_id/oauth2/token\"}\n",
    "\n",
    "\n",
    "dbutils.fs.mount(\n",
    "source = \"abfss://tokyoolympicdata@tokyoolympicadls.dfs.core.windows.net\", # contrainer@storageacc\n",
    "mount_point = \"/mnt/tokyoolympic\",\n",
    "extra_configs = configs)"
   ]
  },
  {
   "cell_type": "code",
   "execution_count": 0,
   "metadata": {
    "application/vnd.databricks.v1+cell": {
     "cellMetadata": {
      "byteLimit": 2048000,
      "rowLimit": 10000
     },
     "inputWidgets": {},
     "nuid": "8364ec1d-4b34-4291-83dc-e6e8eeb235d5",
     "showTitle": false,
     "tableResultSettingsMap": {},
     "title": ""
    }
   },
   "outputs": [
    {
     "output_type": "display_data",
     "data": {
      "text/html": [
       "<style scoped>\n",
       "  .table-result-container {\n",
       "    max-height: 300px;\n",
       "    overflow: auto;\n",
       "  }\n",
       "  table, th, td {\n",
       "    border: 1px solid black;\n",
       "    border-collapse: collapse;\n",
       "  }\n",
       "  th, td {\n",
       "    padding: 5px;\n",
       "  }\n",
       "  th {\n",
       "    text-align: left;\n",
       "  }\n",
       "</style><div class='table-result-container'><table class='table-result'><thead style='background-color: white'><tr><th>path</th><th>name</th><th>size</th><th>modificationTime</th></tr></thead><tbody><tr><td>dbfs:/mnt/tokyoolympic/raw_data/</td><td>raw_data/</td><td>0</td><td>1733402223000</td></tr><tr><td>dbfs:/mnt/tokyoolympic/transformed_data/</td><td>transformed_data/</td><td>0</td><td>1733402232000</td></tr></tbody></table></div>"
      ]
     },
     "metadata": {
      "application/vnd.databricks.v1+output": {
       "addedWidgets": {},
       "aggData": [],
       "aggError": "",
       "aggOverflow": false,
       "aggSchema": [],
       "aggSeriesLimitReached": false,
       "aggType": "",
       "arguments": {},
       "columnCustomDisplayInfos": {},
       "data": [
        [
         "dbfs:/mnt/tokyoolympic/raw_data/",
         "raw_data/",
         0,
         1733402223000
        ],
        [
         "dbfs:/mnt/tokyoolympic/transformed_data/",
         "transformed_data/",
         0,
         1733402232000
        ]
       ],
       "datasetInfos": [],
       "dbfsResultPath": null,
       "isJsonSchema": true,
       "metadata": {
        "isDbfsCommandResult": false
       },
       "overflow": false,
       "plotOptions": {
        "customPlotOptions": {},
        "displayType": "table",
        "pivotAggregation": null,
        "pivotColumns": null,
        "xColumns": null,
        "yColumns": null
       },
       "removedWidgets": [],
       "schema": [
        {
         "metadata": "{}",
         "name": "path",
         "type": "\"string\""
        },
        {
         "metadata": "{}",
         "name": "name",
         "type": "\"string\""
        },
        {
         "metadata": "{}",
         "name": "size",
         "type": "\"long\""
        },
        {
         "metadata": "{}",
         "name": "modificationTime",
         "type": "\"long\""
        }
       ],
       "type": "table"
      }
     },
     "output_type": "display_data"
    }
   ],
   "source": [
    "%fs ls \"/mnt/tokyoolympic\""
   ]
  },
  {
   "cell_type": "code",
   "execution_count": 0,
   "metadata": {
    "application/vnd.databricks.v1+cell": {
     "cellMetadata": {
      "byteLimit": 2048000,
      "rowLimit": 10000
     },
     "inputWidgets": {},
     "nuid": "fd2bd01e-d53e-4ebb-9c34-c9a73110b457",
     "showTitle": false,
     "tableResultSettingsMap": {},
     "title": ""
    }
   },
   "outputs": [
    {
     "output_type": "display_data",
     "data": {
      "text/html": [
       "<style scoped>\n",
       "  .table-result-container {\n",
       "    max-height: 300px;\n",
       "    overflow: auto;\n",
       "  }\n",
       "  table, th, td {\n",
       "    border: 1px solid black;\n",
       "    border-collapse: collapse;\n",
       "  }\n",
       "  th, td {\n",
       "    padding: 5px;\n",
       "  }\n",
       "  th {\n",
       "    text-align: left;\n",
       "  }\n",
       "</style><div class='table-result-container'><table class='table-result'><thead style='background-color: white'><tr><th>path</th><th>name</th><th>size</th><th>modificationTime</th></tr></thead><tbody><tr><td>dbfs:/mnt/tokyoolympic/raw_data/Athelet.csv</td><td>Athelet.csv</td><td>407406</td><td>1733404082000</td></tr><tr><td>dbfs:/mnt/tokyoolympic/raw_data/Coaches.csv</td><td>Coaches.csv</td><td>16494</td><td>1733404097000</td></tr><tr><td>dbfs:/mnt/tokyoolympic/raw_data/Entriesgender.csv</td><td>Entriesgender.csv</td><td>1076</td><td>1733404115000</td></tr><tr><td>dbfs:/mnt/tokyoolympic/raw_data/Medals.csv</td><td>Medals.csv</td><td>2320</td><td>1733404150000</td></tr><tr><td>dbfs:/mnt/tokyoolympic/raw_data/Teams.csv</td><td>Teams.csv</td><td>34526</td><td>1733404168000</td></tr></tbody></table></div>"
      ]
     },
     "metadata": {
      "application/vnd.databricks.v1+output": {
       "addedWidgets": {},
       "aggData": [],
       "aggError": "",
       "aggOverflow": false,
       "aggSchema": [],
       "aggSeriesLimitReached": false,
       "aggType": "",
       "arguments": {},
       "columnCustomDisplayInfos": {},
       "data": [
        [
         "dbfs:/mnt/tokyoolympic/raw_data/Athelet.csv",
         "Athelet.csv",
         407406,
         1733404082000
        ],
        [
         "dbfs:/mnt/tokyoolympic/raw_data/Coaches.csv",
         "Coaches.csv",
         16494,
         1733404097000
        ],
        [
         "dbfs:/mnt/tokyoolympic/raw_data/Entriesgender.csv",
         "Entriesgender.csv",
         1076,
         1733404115000
        ],
        [
         "dbfs:/mnt/tokyoolympic/raw_data/Medals.csv",
         "Medals.csv",
         2320,
         1733404150000
        ],
        [
         "dbfs:/mnt/tokyoolympic/raw_data/Teams.csv",
         "Teams.csv",
         34526,
         1733404168000
        ]
       ],
       "datasetInfos": [],
       "dbfsResultPath": null,
       "isJsonSchema": true,
       "metadata": {
        "isDbfsCommandResult": false
       },
       "overflow": false,
       "plotOptions": {
        "customPlotOptions": {},
        "displayType": "table",
        "pivotAggregation": null,
        "pivotColumns": null,
        "xColumns": null,
        "yColumns": null
       },
       "removedWidgets": [],
       "schema": [
        {
         "metadata": "{}",
         "name": "path",
         "type": "\"string\""
        },
        {
         "metadata": "{}",
         "name": "name",
         "type": "\"string\""
        },
        {
         "metadata": "{}",
         "name": "size",
         "type": "\"long\""
        },
        {
         "metadata": "{}",
         "name": "modificationTime",
         "type": "\"long\""
        }
       ],
       "type": "table"
      }
     },
     "output_type": "display_data"
    }
   ],
   "source": [
    "%fs ls \"/mnt/tokyoolympic/raw_data\""
   ]
  },
  {
   "cell_type": "code",
   "execution_count": 0,
   "metadata": {
    "application/vnd.databricks.v1+cell": {
     "cellMetadata": {
      "byteLimit": 2048000,
      "rowLimit": 10000
     },
     "inputWidgets": {},
     "nuid": "32f1b9a3-8a14-425a-a79a-52896c05b8d2",
     "showTitle": false,
     "tableResultSettingsMap": {},
     "title": ""
    }
   },
   "outputs": [],
   "source": [
    "from pyspark.sql.functions import col, count, round\n",
    "from pyspark.sql.window import Window"
   ]
  },
  {
   "cell_type": "code",
   "execution_count": 0,
   "metadata": {
    "application/vnd.databricks.v1+cell": {
     "cellMetadata": {
      "byteLimit": 2048000,
      "rowLimit": 10000
     },
     "inputWidgets": {},
     "nuid": "c90261ef-312b-4213-8d23-fa65e72c9e81",
     "showTitle": false,
     "tableResultSettingsMap": {},
     "title": ""
    }
   },
   "outputs": [
    {
     "output_type": "stream",
     "name": "stdout",
     "output_type": "stream",
     "text": [
      "root\n |-- PersonName: string (nullable = true)\n |-- Country: string (nullable = false)\n |-- Discipline: string (nullable = false)\n\n"
     ]
    },
    {
     "output_type": "execute_result",
     "data": {
      "text/plain": [
       "11085"
      ]
     },
     "execution_count": 16,
     "metadata": {},
     "output_type": "execute_result"
    }
   ],
   "source": [
    "Athelet_df = spark.read.format('csv').option('header', True).option('inferSchema', True).load('/mnt/tokyoolympic/raw_data/Athelet.csv')\n",
    "Athelet_df = Athelet_df.fillna({\"Country\": \"Unknown\", \"Discipline\": \"Unknown\"})\n",
    "Athelet_df.printSchema()\n",
    "Athelet_df.count()"
   ]
  },
  {
   "cell_type": "code",
   "execution_count": 0,
   "metadata": {
    "application/vnd.databricks.v1+cell": {
     "cellMetadata": {
      "byteLimit": 2048000,
      "rowLimit": 10000
     },
     "inputWidgets": {},
     "nuid": "388ec7d0-1e0a-4624-b188-13e84ed1c716",
     "showTitle": false,
     "tableResultSettingsMap": {},
     "title": ""
    }
   },
   "outputs": [
    {
     "output_type": "execute_result",
     "data": {
      "text/plain": [
       "11084"
      ]
     },
     "execution_count": 17,
     "metadata": {},
     "output_type": "execute_result"
    }
   ],
   "source": [
    "Athelet_df = Athelet_df.drop_duplicates(subset=['PersonName', 'Country', 'Discipline'])\n",
    "Athelet_df.count()"
   ]
  },
  {
   "cell_type": "code",
   "execution_count": 0,
   "metadata": {
    "application/vnd.databricks.v1+cell": {
     "cellMetadata": {
      "byteLimit": 2048000,
      "rowLimit": 10000
     },
     "inputWidgets": {},
     "nuid": "6edd70d9-be58-440f-ad5c-25a83ee6cb84",
     "showTitle": false,
     "tableResultSettingsMap": {},
     "title": ""
    }
   },
   "outputs": [],
   "source": [
    "# Add a new column 'Total_persons_per_country' means the number of athletes in each country\n",
    "\n",
    "windowspec = Window.partitionBy('Country')\n",
    "Athelet_df = Athelet_df.withColumn('Total_persons_per_country', count('PersonName').over(windowspec))\n",
    "\n",
    "# Add a new column 'Total_persons_per_country_per_discipline' means the number of athletes in each country and same discipline in same country\n",
    "windowspec_new = Window.partitionBy('Country', 'Discipline')\n",
    "Athelet_df = Athelet_df.withColumn('Total_persons_per_country_per_discipline', count('PersonName').over(windowspec_new))\n"
   ]
  },
  {
   "cell_type": "code",
   "execution_count": 0,
   "metadata": {
    "application/vnd.databricks.v1+cell": {
     "cellMetadata": {
      "byteLimit": 2048000,
      "rowLimit": 10000
     },
     "inputWidgets": {},
     "nuid": "1ecc4465-af7a-4e2c-a7e1-d5b6e3e76f55",
     "showTitle": false,
     "tableResultSettingsMap": {},
     "title": ""
    }
   },
   "outputs": [
    {
     "output_type": "stream",
     "name": "stdout",
     "output_type": "stream",
     "text": [
      "root\n |-- Name: string (nullable = true)\n |-- Country: string (nullable = true)\n |-- Discipline: string (nullable = true)\n |-- Event: string (nullable = true)\n\n"
     ]
    },
    {
     "output_type": "execute_result",
     "data": {
      "text/plain": [
       "394"
      ]
     },
     "execution_count": 19,
     "metadata": {},
     "output_type": "execute_result"
    }
   ],
   "source": [
    "coaches_df = spark.read.format('csv').option('header', True).option('inferSchema', True).load('/mnt/tokyoolympic/raw_data/Coaches.csv')\n",
    "coaches_df.printSchema()\n",
    "coaches_df.count()"
   ]
  },
  {
   "cell_type": "code",
   "execution_count": 0,
   "metadata": {
    "application/vnd.databricks.v1+cell": {
     "cellMetadata": {
      "byteLimit": 2048000,
      "rowLimit": 10000
     },
     "inputWidgets": {},
     "nuid": "c9707c2e-9bf4-4e38-b5a9-a62079d39f97",
     "showTitle": false,
     "tableResultSettingsMap": {},
     "title": ""
    }
   },
   "outputs": [
    {
     "output_type": "execute_result",
     "data": {
      "text/plain": [
       "393"
      ]
     },
     "execution_count": 20,
     "metadata": {},
     "output_type": "execute_result"
    }
   ],
   "source": [
    "coaches_df = coaches_df.drop_duplicates(subset=['Name', 'Country', 'Discipline', 'Event'])\n",
    "coaches_df.count()"
   ]
  },
  {
   "cell_type": "code",
   "execution_count": 0,
   "metadata": {
    "application/vnd.databricks.v1+cell": {
     "cellMetadata": {
      "byteLimit": 2048000,
      "rowLimit": 10000
     },
     "inputWidgets": {},
     "nuid": "82b4becf-d340-4694-b220-c54f0d750e04",
     "showTitle": false,
     "tableResultSettingsMap": {},
     "title": ""
    }
   },
   "outputs": [],
   "source": [
    "coaches_df = coaches_df.fillna({\"Country\": \"Unknown\", \"Discipline\": \"Unknown\", \"Event\": \"Unknown\"})"
   ]
  },
  {
   "cell_type": "code",
   "execution_count": 0,
   "metadata": {
    "application/vnd.databricks.v1+cell": {
     "cellMetadata": {
      "byteLimit": 2048000,
      "rowLimit": 10000
     },
     "inputWidgets": {},
     "nuid": "dfa33635-c940-4ecb-b0d2-138e41f659a6",
     "showTitle": false,
     "tableResultSettingsMap": {},
     "title": ""
    }
   },
   "outputs": [],
   "source": [
    "windowspec_1 = Window.partitionBy(\"Country\", \"Discipline\")\n",
    "coaches_df = coaches_df.withColumn(\"Total_coaches_per_country_per_discipline\", count(\"Name\").over(windowspec_1))"
   ]
  },
  {
   "cell_type": "code",
   "execution_count": 0,
   "metadata": {
    "application/vnd.databricks.v1+cell": {
     "cellMetadata": {
      "byteLimit": 2048000,
      "rowLimit": 10000
     },
     "inputWidgets": {},
     "nuid": "0308b8be-3c86-4d15-8edb-f0c61d095906",
     "showTitle": false,
     "tableResultSettingsMap": {},
     "title": ""
    }
   },
   "outputs": [
    {
     "output_type": "stream",
     "name": "stdout",
     "output_type": "stream",
     "text": [
      "root\n |-- Discipline: string (nullable = true)\n |-- Female: integer (nullable = true)\n |-- Male: integer (nullable = true)\n |-- Total: integer (nullable = true)\n\n"
     ]
    },
    {
     "output_type": "execute_result",
     "data": {
      "text/plain": [
       "46"
      ]
     },
     "execution_count": 23,
     "metadata": {},
     "output_type": "execute_result"
    }
   ],
   "source": [
    "entriesgender_df = spark.read.format('csv').option('header', True).option('inferSchema', True).load('/mnt/tokyoolympic/raw_data/Entriesgender.csv')\n",
    "entriesgender_df.printSchema()\n",
    "entriesgender_df.count()"
   ]
  },
  {
   "cell_type": "code",
   "execution_count": 0,
   "metadata": {
    "application/vnd.databricks.v1+cell": {
     "cellMetadata": {
      "byteLimit": 2048000,
      "rowLimit": 10000
     },
     "inputWidgets": {},
     "nuid": "4a45234f-090d-4fb5-a7e1-6918e5b27667",
     "showTitle": false,
     "tableResultSettingsMap": {},
     "title": ""
    }
   },
   "outputs": [
    {
     "output_type": "stream",
     "name": "stdout",
     "output_type": "stream",
     "text": [
      "+--------------------+------+----+-----+----------+--------+\n|          Discipline|Female|Male|Total|Avg_Female|Avg_Male|\n+--------------------+------+----+-----+----------+--------+\n|      3x3 Basketball|    32|  32|   64|       0.5|     0.5|\n|             Archery|    64|  64|  128|       0.5|     0.5|\n| Artistic Gymnastics|    98|  98|  196|       0.5|     0.5|\n|   Artistic Swimming|   105|   0|  105|       1.0|     0.0|\n|           Athletics|   969|1072| 2041|      0.47|    0.53|\n|           Badminton|    86|  87|  173|       0.5|     0.5|\n|   Baseball/Softball|    90| 144|  234|      0.38|    0.62|\n|          Basketball|   144| 144|  288|       0.5|     0.5|\n|    Beach Volleyball|    48|  48|   96|       0.5|     0.5|\n|              Boxing|   102| 187|  289|      0.35|    0.65|\n|        Canoe Slalom|    41|  41|   82|       0.5|     0.5|\n|        Canoe Sprint|   123| 126|  249|      0.49|    0.51|\n|Cycling BMX Frees...|    10|   9|   19|      0.53|    0.47|\n|  Cycling BMX Racing|    24|  24|   48|       0.5|     0.5|\n|Cycling Mountain ...|    38|  38|   76|       0.5|     0.5|\n|        Cycling Road|    70| 131|  201|      0.35|    0.65|\n|       Cycling Track|    90|  99|  189|      0.48|    0.52|\n|              Diving|    72|  71|  143|       0.5|     0.5|\n|          Equestrian|    73| 125|  198|      0.37|    0.63|\n|             Fencing|   107| 108|  215|       0.5|     0.5|\n+--------------------+------+----+-----+----------+--------+\nonly showing top 20 rows\n\n"
     ]
    }
   ],
   "source": [
    "entriesgender_df = entriesgender_df.withColumn(\n",
    "    'Avg_Female', round(entriesgender_df['Female'] / entriesgender_df['Total'], 2)\n",
    ").withColumn(\n",
    "    'Avg_Male', round(entriesgender_df['Male'] / entriesgender_df['Total'], 2)\n",
    ")\n",
    "entriesgender_df.show()"
   ]
  },
  {
   "cell_type": "code",
   "execution_count": 0,
   "metadata": {
    "application/vnd.databricks.v1+cell": {
     "cellMetadata": {
      "byteLimit": 2048000,
      "rowLimit": 10000
     },
     "inputWidgets": {},
     "nuid": "bb948ac5-9694-439d-b36f-9b67959e7499",
     "showTitle": false,
     "tableResultSettingsMap": {},
     "title": ""
    }
   },
   "outputs": [
    {
     "output_type": "stream",
     "name": "stdout",
     "output_type": "stream",
     "text": [
      "+----+--------------------+----+------+------+-----+-------------+\n|Rank|         TeamCountry|Gold|Silver|Bronze|Total|Rank by Total|\n+----+--------------------+----+------+------+-----+-------------+\n|   1|United States of ...|  39|    41|    33|  113|            1|\n|   2|People's Republic...|  38|    32|    18|   88|            2|\n|   5|                 ROC|  20|    28|    23|   71|            3|\n|   4|       Great Britain|  22|    21|    22|   65|            4|\n|   3|               Japan|  27|    14|    17|   58|            5|\n|   6|           Australia|  17|     7|    22|   46|            6|\n|  10|               Italy|  10|    10|    20|   40|            7|\n|   9|             Germany|  10|    11|    16|   37|            8|\n|   7|         Netherlands|  10|    12|    14|   36|            9|\n|   8|              France|  10|    12|    11|   33|           10|\n|  11|              Canada|   7|     6|    11|   24|           11|\n|  12|              Brazil|   7|     6|     8|   21|           12|\n|  13|         New Zealand|   7|     6|     7|   20|           13|\n|  15|             Hungary|   6|     7|     7|   20|           13|\n|  16|   Republic of Korea|   6|     4|    10|   20|           13|\n|  44|             Ukraine|   1|     6|    12|   19|           16|\n|  22|               Spain|   3|     8|     6|   17|           17|\n|  14|                Cuba|   7|     3|     5|   15|           18|\n|  17|              Poland|   4|     5|     5|   14|           19|\n|  24|         Switzerland|   3|     4|     6|   13|           20|\n+----+--------------------+----+------+------+-----+-------------+\nonly showing top 20 rows\n\n"
     ]
    }
   ],
   "source": [
    "medals_df = spark.read.format('csv').option('header', True).option('inferSchema', True).load('/mnt/tokyoolympic/raw_data/Medals.csv')\n",
    "medals_df = medals_df.orderBy('Rank by Total')\n",
    "medals_df.show()"
   ]
  },
  {
   "cell_type": "code",
   "execution_count": 0,
   "metadata": {
    "application/vnd.databricks.v1+cell": {
     "cellMetadata": {
      "byteLimit": 2048000,
      "rowLimit": 10000
     },
     "inputWidgets": {},
     "nuid": "86060236-8b79-4c4f-97f7-d09c7f4a3d6b",
     "showTitle": false,
     "tableResultSettingsMap": {},
     "title": ""
    }
   },
   "outputs": [
    {
     "output_type": "stream",
     "name": "stdout",
     "output_type": "stream",
     "text": [
      "+-------------+--------------+--------------------+------------+\n|     TeamName|    Discipline|             Country|       Event|\n+-------------+--------------+--------------------+------------+\n|      Belgium|3x3 Basketball|             Belgium|         Men|\n|        China|3x3 Basketball|People's Republic...|         Men|\n|        China|3x3 Basketball|People's Republic...|       Women|\n|       France|3x3 Basketball|              France|       Women|\n|        Italy|3x3 Basketball|               Italy|       Women|\n|        Japan|3x3 Basketball|               Japan|         Men|\n|        Japan|3x3 Basketball|               Japan|       Women|\n|       Latvia|3x3 Basketball|              Latvia|         Men|\n|     Mongolia|3x3 Basketball|            Mongolia|       Women|\n|  Netherlands|3x3 Basketball|         Netherlands|         Men|\n|       Poland|3x3 Basketball|              Poland|         Men|\n|          ROC|3x3 Basketball|                 ROC|         Men|\n|          ROC|3x3 Basketball|                 ROC|       Women|\n|      Romania|3x3 Basketball|             Romania|       Women|\n|       Serbia|3x3 Basketball|              Serbia|         Men|\n|United States|3x3 Basketball|United States of ...|       Women|\n|    Australia|       Archery|           Australia|  Men's Team|\n|    Australia|       Archery|           Australia|  Mixed Team|\n|   Bangladesh|       Archery|          Bangladesh|  Mixed Team|\n|      Belarus|       Archery|             Belarus|Women's Team|\n+-------------+--------------+--------------------+------------+\nonly showing top 20 rows\n\n"
     ]
    }
   ],
   "source": [
    "teams_df = spark.read.format('csv').option('header', True).option('inferSchema', True).load('/mnt/tokyoolympic/raw_data/Teams.csv')\n",
    "teams_df.show()"
   ]
  },
  {
   "cell_type": "code",
   "execution_count": 0,
   "metadata": {
    "application/vnd.databricks.v1+cell": {
     "cellMetadata": {
      "byteLimit": 2048000,
      "rowLimit": 10000
     },
     "inputWidgets": {},
     "nuid": "97286307-8cda-45d0-b331-661a5a9da823",
     "showTitle": false,
     "tableResultSettingsMap": {},
     "title": ""
    }
   },
   "outputs": [],
   "source": [
    "Athelet_df.write.mode('overwrite').option('header', True).csv('/mnt/tokyoolympic/transformed_data/Athelets')\n"
   ]
  },
  {
   "cell_type": "code",
   "execution_count": 0,
   "metadata": {
    "application/vnd.databricks.v1+cell": {
     "cellMetadata": {
      "byteLimit": 2048000,
      "rowLimit": 10000
     },
     "inputWidgets": {},
     "nuid": "493e4127-158f-404b-b4ed-bbffba57f03a",
     "showTitle": false,
     "tableResultSettingsMap": {},
     "title": ""
    }
   },
   "outputs": [],
   "source": [
    "coaches_df.write.mode('overwrite').option('header', True).csv('/mnt/tokyoolympic/transformed_data/Coaches')\n",
    "entriesgender_df.write.mode('overwrite').option('header', True).csv('/mnt/tokyoolympic/transformed_data/EntriesGender')\n",
    "medals_df.write.mode('overwrite').option('header', True).csv('/mnt/tokyoolympic/transformed_data/Medals')\n",
    "teams_df.write.mode('overwrite').option('header', True).csv('/mnt/tokyoolympic/transformed_data/Teams')"
   ]
  },
  {
   "cell_type": "code",
   "execution_count": 0,
   "metadata": {
    "application/vnd.databricks.v1+cell": {
     "cellMetadata": {},
     "inputWidgets": {},
     "nuid": "10aa104e-29d8-4c4e-adf8-7d6156f1b382",
     "showTitle": false,
     "tableResultSettingsMap": {},
     "title": ""
    }
   },
   "outputs": [],
   "source": []
  }
 ],
 "metadata": {
  "application/vnd.databricks.v1+notebook": {
   "computePreferences": null,
   "dashboards": [],
   "environmentMetadata": {
    "base_environment": "",
    "client": "1"
   },
   "language": "python",
   "notebookMetadata": {
    "mostRecentlyExecutedCommandWithImplicitDF": {
     "commandId": 3928414684657163,
     "dataframes": [
      "_sqldf"
     ]
    },
    "pythonIndentUnit": 4
   },
   "notebookName": "Tokyo_olympic_transformations",
   "widgets": {}
  },
  "language_info": {
   "name": "python"
  }
 },
 "nbformat": 4,
 "nbformat_minor": 0
}